{
 "cells": [
  {
   "cell_type": "markdown",
   "metadata": {},
   "source": [
    "### Distributed Text Preprocessing\n",
    "\n",
    "This project aims conduct distributed data cleaning and wrangling processing on a huge dataset. This set of codes can be leveraged and scaled to any project that involves memory-intensive tasks. \n",
    "\n",
    "I crawled this dataset from scratch using the new Twitter API v2 via the twarc package. "
   ]
  },
  {
   "cell_type": "code",
   "execution_count": 2,
   "metadata": {},
   "outputs": [],
   "source": [
    "import dask.dataframe as dd\n",
    "import dask.bag as db\n",
    "import json\n",
    "import regex as re"
   ]
  },
  {
   "cell_type": "code",
   "execution_count": 3,
   "metadata": {},
   "outputs": [],
   "source": [
    "#read json file into a dask bag\n",
    "df = db.read_text('*.jsonl').map(json.loads)"
   ]
  },
  {
   "cell_type": "code",
   "execution_count": 10,
   "metadata": {},
   "outputs": [],
   "source": [
    "#define a function to extract columns we need, some are nested \n",
    "\n",
    "def flatten(record):\n",
    "    return {\n",
    "        'retweet_count': record['public_metrics']['retweet_count'],\n",
    "        'reply_count': record['public_metrics']['reply_count'],\n",
    "        'like_count': record['public_metrics']['like_count'],\n",
    "        'quote_count': record['public_metrics']['quote_count'],\n",
    "        'text': record['text'],\n",
    "        'conversation_id': record['conversation_id'],\n",
    "        'author_id': record['author_id'],\n",
    "        'created_at': record['created_at'],\n",
    "        'username': record['author']['username'],\n",
    "        'followers_count': record['author']['public_metrics']['followers_count'],\n",
    "        'following_count': record['author']['public_metrics']['following_count'],\n",
    "        'lang': record['lang'],\n",
    "        'text': record['text'],\n",
    "        'id': record['id']\n",
    "    }"
   ]
  },
  {
   "cell_type": "code",
   "execution_count": 11,
   "metadata": {},
   "outputs": [
    {
     "data": {
      "text/plain": [
       "({'retweet_count': 11793,\n",
       "  'reply_count': 0,\n",
       "  'like_count': 0,\n",
       "  'quote_count': 0,\n",
       "  'text': 'RT @freya_cole: A 26yro man who was shot in the knee while protesting in Mandalay on Feb 20 has died. I have spoken directly to the volunte…',\n",
       "  'conversation_id': '1364726793727401984',\n",
       "  'author_id': '1357203775216377856',\n",
       "  'created_at': '2021-02-24T23:59:57.000Z',\n",
       "  'username': 'Wynnms83',\n",
       "  'followers_count': 23,\n",
       "  'following_count': 50,\n",
       "  'lang': 'en',\n",
       "  'id': '1364726793727401984'},\n",
       " {'retweet_count': 4,\n",
       "  'reply_count': 0,\n",
       "  'like_count': 0,\n",
       "  'quote_count': 0,\n",
       "  'text': \"RT @glo87516996: Dear ASEAN, please stand with Myanmar people. Please don’t give any help on junta who violent and kill their citizens.Don'…\",\n",
       "  'conversation_id': '1364726788602142722',\n",
       "  'author_id': '1357360747718856711',\n",
       "  'created_at': '2021-02-24T23:59:56.000Z',\n",
       "  'username': 'Sumyat01337195',\n",
       "  'followers_count': 38,\n",
       "  'following_count': 73,\n",
       "  'lang': 'en',\n",
       "  'id': '1364726788602142722'})"
      ]
     },
     "execution_count": 11,
     "metadata": {},
     "output_type": "execute_result"
    }
   ],
   "source": [
    "# check the first 2 flattened data entries\n",
    "\n",
    "df.map(flatten).take(2)"
   ]
  },
  {
   "cell_type": "code",
   "execution_count": 28,
   "metadata": {},
   "outputs": [],
   "source": [
    "#save flattemed dask bag into dataframe\n",
    "df2 = df.map(flatten).to_dataframe()"
   ]
  },
  {
   "cell_type": "code",
   "execution_count": 29,
   "metadata": {},
   "outputs": [
    {
     "data": {
      "text/plain": [
       "retweet_count       int64\n",
       "reply_count         int64\n",
       "like_count          int64\n",
       "quote_count         int64\n",
       "text               object\n",
       "conversation_id    object\n",
       "author_id          object\n",
       "created_at         object\n",
       "username           object\n",
       "followers_count     int64\n",
       "following_count     int64\n",
       "lang               object\n",
       "id                 object\n",
       "dtype: object"
      ]
     },
     "execution_count": 29,
     "metadata": {},
     "output_type": "execute_result"
    }
   ],
   "source": [
    "df2.dtypes"
   ]
  },
  {
   "cell_type": "code",
   "execution_count": 30,
   "metadata": {},
   "outputs": [],
   "source": [
    "def remove_noise(text):\n",
    "\n",
    "    text = re.sub(r\",\", \"\", text)\n",
    "    text = re.sub(r\"\\w+\\d+\", \" numbers\", text)\n",
    "    text = re.sub(r'\\d+','numbers', text)\n",
    "    text = re.sub(r\"\\$\", \"dollar \", text)\n",
    "    text = re.sub(r\"\\$+\", \"dollar \", text)\n",
    "    text = re.sub(r\"dollars\", \"dollar\", text)\n",
    "    text = re.sub(r\"[^A-Za-z0-9^,!.\\/'+-=]\", \" \", text)\n",
    "    text = re.sub(r\"!\", \" \", text)\n",
    "    text = re.sub(r\"what's\", \"what is \", text)\n",
    "    text = re.sub(r\"\\'s\", \" \", text)\n",
    "    text = re.sub(r\"\\'ve\", \" have \", text)\n",
    "    text = re.sub(r\"n't\", \" not \", text)\n",
    "    text = re.sub(r\"i'm\", \"i am \", text)\n",
    "    text = re.sub(r\":\", \"\", text)\n",
    "    text = re.sub(r\" :\", \"\", text)\n",
    "    text = re.sub(r\"\\w+\\-\\w+\", \"\", text)\n",
    "    text = re.sub(r\" -\", \"\", text)\n",
    "    text = re.sub(r\" s \", \"\", text)\n",
    "    text = re.sub(r\" - \", \"\", text)\n",
    "    text = re.sub(r\"\\'re\", \" are \", text)\n",
    "    text = re.sub(r\"\\'d\", \" would \", text)\n",
    "    text = re.sub(r\"\\'ll\", \" will \", text)\n",
    "    text = re.sub(r\"!\", \" ! \", text)\n",
    "    text = re.sub(r\"\\/\", \" \", text)\n",
    "    text = re.sub(r\"\\^\", \" ^ \", text)\n",
    "    text = re.sub(r\"\\+\", \" + \", text)\n",
    "    text = re.sub(r\"\\-\", \" - \", text)\n",
    "    text = re.sub(r\"\\=\", \" = \", text)\n",
    "    text = re.sub(r\"'\", \" \", text)\n",
    "    text = re.sub(r\"(\\d+)(k)\", r\"\\g<1>000\", text)\n",
    "    text = re.sub(r\":\", \" : \", text)\n",
    "    text = re.sub(r\" e g \", \" eg \", text)\n",
    "    text = re.sub(r\" b g \", \" bg \", text)\n",
    "    text = re.sub(r\" u s \", \" american \", text)\n",
    "    text = re.sub(r\"\\0s\", \"0\", text)\n",
    "    text = re.sub(r\" 9 11 \", \"911\", text)\n",
    "    text = re.sub(r\"e - mail\", \"email\", text)\n",
    "    text = re.sub(r\"j k\", \"jk\", text)\n",
    "    text = re.sub(r\"\\s{2,}\", \" \", text)\n",
    "    text = re.sub(r\"\", \"\", text)\n",
    "    return text"
   ]
  },
  {
   "cell_type": "code",
   "execution_count": 43,
   "metadata": {},
   "outputs": [],
   "source": [
    "#remove stopwords\n",
    "from nltk.corpus import stopwords\n",
    "from nltk.tokenize import word_tokenize\n",
    "stop_words = stopwords.words(\"english\")\n",
    "def remove_stopwords3(text):\n",
    "    tokens = word_tokenize(text)\n",
    "    filtered_words = [w for w in tokens if len(w) > 2 if not w in stop_words]\n",
    "    \n",
    "    return \" \".join(filtered_words)"
   ]
  },
  {
   "cell_type": "code",
   "execution_count": 44,
   "metadata": {},
   "outputs": [],
   "source": [
    "#combine functions above the one function\n",
    "def clean_text(df2):\n",
    "\n",
    "    df2[\"text\"] = df2.text.map(lambda text:text.lower()).map(remove_noise).map(remove_stopwords3)\n",
    "    \n",
    "    return df2"
   ]
  },
  {
   "cell_type": "code",
   "execution_count": 45,
   "metadata": {},
   "outputs": [],
   "source": [
    "df2 = df2.map_partitions(clean_text, meta=df2)"
   ]
  },
  {
   "cell_type": "code",
   "execution_count": 46,
   "metadata": {},
   "outputs": [
    {
     "data": {
      "text/html": [
       "<div>\n",
       "<style scoped>\n",
       "    .dataframe tbody tr th:only-of-type {\n",
       "        vertical-align: middle;\n",
       "    }\n",
       "\n",
       "    .dataframe tbody tr th {\n",
       "        vertical-align: top;\n",
       "    }\n",
       "\n",
       "    .dataframe thead th {\n",
       "        text-align: right;\n",
       "    }\n",
       "</style>\n",
       "<table border=\"1\" class=\"dataframe\">\n",
       "  <thead>\n",
       "    <tr style=\"text-align: right;\">\n",
       "      <th></th>\n",
       "      <th>retweet_count</th>\n",
       "      <th>reply_count</th>\n",
       "      <th>like_count</th>\n",
       "      <th>quote_count</th>\n",
       "      <th>text</th>\n",
       "      <th>conversation_id</th>\n",
       "      <th>author_id</th>\n",
       "      <th>created_at</th>\n",
       "      <th>username</th>\n",
       "      <th>followers_count</th>\n",
       "      <th>following_count</th>\n",
       "      <th>lang</th>\n",
       "      <th>id</th>\n",
       "    </tr>\n",
       "  </thead>\n",
       "  <tbody>\n",
       "    <tr>\n",
       "      <th>0</th>\n",
       "      <td>11793</td>\n",
       "      <td>0</td>\n",
       "      <td>0</td>\n",
       "      <td>0</td>\n",
       "      <td>freya cole numbersyro man shot knee protesting...</td>\n",
       "      <td>1364726793727401984</td>\n",
       "      <td>1357203775216377856</td>\n",
       "      <td>2021-02-24T23:59:57.000Z</td>\n",
       "      <td>Wynnms83</td>\n",
       "      <td>23</td>\n",
       "      <td>50</td>\n",
       "      <td>en</td>\n",
       "      <td>1364726793727401984</td>\n",
       "    </tr>\n",
       "    <tr>\n",
       "      <th>1</th>\n",
       "      <td>4</td>\n",
       "      <td>0</td>\n",
       "      <td>0</td>\n",
       "      <td>0</td>\n",
       "      <td>numbers dear asean please stand myanmar people...</td>\n",
       "      <td>1364726788602142722</td>\n",
       "      <td>1357360747718856711</td>\n",
       "      <td>2021-02-24T23:59:56.000Z</td>\n",
       "      <td>Sumyat01337195</td>\n",
       "      <td>38</td>\n",
       "      <td>73</td>\n",
       "      <td>en</td>\n",
       "      <td>1364726788602142722</td>\n",
       "    </tr>\n",
       "    <tr>\n",
       "      <th>2</th>\n",
       "      <td>438</td>\n",
       "      <td>0</td>\n",
       "      <td>0</td>\n",
       "      <td>0</td>\n",
       "      <td>numbers accept army dictator appointee officia...</td>\n",
       "      <td>1364726784877490180</td>\n",
       "      <td>2546163824</td>\n",
       "      <td>2021-02-24T23:59:55.000Z</td>\n",
       "      <td>Nandarcheah</td>\n",
       "      <td>141</td>\n",
       "      <td>413</td>\n",
       "      <td>en</td>\n",
       "      <td>1364726784877490180</td>\n",
       "    </tr>\n",
       "    <tr>\n",
       "      <th>3</th>\n",
       "      <td>0</td>\n",
       "      <td>0</td>\n",
       "      <td>0</td>\n",
       "      <td>0</td>\n",
       "      <td>attempting prove strong expression authority g...</td>\n",
       "      <td>1364726777805869058</td>\n",
       "      <td>822335698069909504</td>\n",
       "      <td>2021-02-24T23:59:53.000Z</td>\n",
       "      <td>CasyThantSu</td>\n",
       "      <td>17</td>\n",
       "      <td>80</td>\n",
       "      <td>en</td>\n",
       "      <td>1364726777805869058</td>\n",
       "    </tr>\n",
       "    <tr>\n",
       "      <th>4</th>\n",
       "      <td>1968</td>\n",
       "      <td>0</td>\n",
       "      <td>0</td>\n",
       "      <td>0</td>\n",
       "      <td>dandaniemyanmar hear voice numberscoup whatsha...</td>\n",
       "      <td>1364726777294151682</td>\n",
       "      <td>1348546840917012480</td>\n",
       "      <td>2021-02-24T23:59:53.000Z</td>\n",
       "      <td>ThuThunw</td>\n",
       "      <td>206</td>\n",
       "      <td>328</td>\n",
       "      <td>en</td>\n",
       "      <td>1364726777294151682</td>\n",
       "    </tr>\n",
       "  </tbody>\n",
       "</table>\n",
       "</div>"
      ],
      "text/plain": [
       "   retweet_count  reply_count  like_count  quote_count  \\\n",
       "0          11793            0           0            0   \n",
       "1              4            0           0            0   \n",
       "2            438            0           0            0   \n",
       "3              0            0           0            0   \n",
       "4           1968            0           0            0   \n",
       "\n",
       "                                                text      conversation_id  \\\n",
       "0  freya cole numbersyro man shot knee protesting...  1364726793727401984   \n",
       "1  numbers dear asean please stand myanmar people...  1364726788602142722   \n",
       "2  numbers accept army dictator appointee officia...  1364726784877490180   \n",
       "3  attempting prove strong expression authority g...  1364726777805869058   \n",
       "4  dandaniemyanmar hear voice numberscoup whatsha...  1364726777294151682   \n",
       "\n",
       "             author_id                created_at        username  \\\n",
       "0  1357203775216377856  2021-02-24T23:59:57.000Z        Wynnms83   \n",
       "1  1357360747718856711  2021-02-24T23:59:56.000Z  Sumyat01337195   \n",
       "2           2546163824  2021-02-24T23:59:55.000Z     Nandarcheah   \n",
       "3   822335698069909504  2021-02-24T23:59:53.000Z     CasyThantSu   \n",
       "4  1348546840917012480  2021-02-24T23:59:53.000Z        ThuThunw   \n",
       "\n",
       "   followers_count  following_count lang                   id  \n",
       "0               23               50   en  1364726793727401984  \n",
       "1               38               73   en  1364726788602142722  \n",
       "2              141              413   en  1364726784877490180  \n",
       "3               17               80   en  1364726777805869058  \n",
       "4              206              328   en  1364726777294151682  "
      ]
     },
     "execution_count": 46,
     "metadata": {},
     "output_type": "execute_result"
    }
   ],
   "source": [
    "df2.head()"
   ]
  },
  {
   "cell_type": "code",
   "execution_count": null,
   "metadata": {},
   "outputs": [],
   "source": [
    "# the final dataset can be saved as a csv file\n",
    "df2.to_csv('df2.csv', single_file = True)"
   ]
  }
 ],
 "metadata": {
  "interpreter": {
   "hash": "aee8b7b246df8f9039afb4144a1f6fd8d2ca17a180786b69acc140d282b71a49"
  },
  "kernelspec": {
   "display_name": "Python 3.8.0 64-bit",
   "name": "python3"
  },
  "language_info": {
   "codemirror_mode": {
    "name": "ipython",
    "version": 3
   },
   "file_extension": ".py",
   "mimetype": "text/x-python",
   "name": "python",
   "nbconvert_exporter": "python",
   "pygments_lexer": "ipython3",
   "version": "3.8.0"
  },
  "orig_nbformat": 4
 },
 "nbformat": 4,
 "nbformat_minor": 2
}